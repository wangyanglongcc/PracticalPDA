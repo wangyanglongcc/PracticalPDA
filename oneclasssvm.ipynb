{
 "cells": [
  {
   "cell_type": "code",
   "execution_count": 1,
   "metadata": {},
   "outputs": [],
   "source": [
    "import pandas as pd # for data analytics\n",
    "import numpy as np # for numerical computation\n",
    "import pickle\n",
    "from sklearn.metrics import precision_recall_fscore_support, classification_report,confusion_matrix, precision_recall_curve\n",
    "from sklearn.metrics import roc_auc_score\n",
    "from sklearn import utils  \n",
    "from sklearn import svm\n",
    "from sklearn.model_selection import train_test_split\n",
    "from fastai.structured import *\n",
    "# from fastai.column_data import *\n",
    "import warnings\n",
    "warnings.filterwarnings(\"ignore\")"
   ]
  },
  {
   "cell_type": "code",
   "execution_count": 2,
   "metadata": {},
   "outputs": [],
   "source": [
    "df = pd.read_pickle('/home/chance/Desktop/hot_article_df.pickle').rename(columns={'over_10w':'Class'})\n",
    "df.loc[df['Class'] == 1, \"Class\"] = -1\n",
    "df.loc[df['Class'] == 0, \"Class\"] = 1"
   ]
  },
  {
   "cell_type": "code",
   "execution_count": 3,
   "metadata": {},
   "outputs": [],
   "source": [
    "# pos = df[df['Class']==1]\n",
    "# neg = df[df['Class']==-1]\n",
    "# pos.shape,neg.shape,pos.shape[0]/df.shape[0]"
   ]
  },
  {
   "cell_type": "code",
   "execution_count": 4,
   "metadata": {},
   "outputs": [],
   "source": [
    "# df = pd.concat([pos.head(30000),neg])\n",
    "# df['Class'].value_counts()"
   ]
  },
  {
   "cell_type": "code",
   "execution_count": 5,
   "metadata": {},
   "outputs": [],
   "source": [
    "#getting random set of nonfraud data to train on\n",
    "non_fraud = df[df['Class']==1]\n",
    "df_train, val = train_test_split(non_fraud, test_size=0.20, random_state=42)\n",
    "fraud = df[df['Class']==-1]"
   ]
  },
  {
   "cell_type": "code",
   "execution_count": 6,
   "metadata": {},
   "outputs": [
    {
     "data": {
      "text/plain": [
       "DataFrameMapper(default=False, df_out=False,\n",
       "        features=[(['title_emotion'], StandardScaler(copy=True, with_mean=True, with_std=True)), (['title_car_listed'], StandardScaler(copy=True, with_mean=True, with_std=True)), (['title_car_price'], StandardScaler(copy=True, with_mean=True, with_std=True)), (['title_car_apperance'], StandardScaler(copy=Tr...h_mean=True, with_std=True)), (['pos_v'], StandardScaler(copy=True, with_mean=True, with_std=True))],\n",
       "        input_df=False, sparse=False)"
      ]
     },
     "execution_count": 6,
     "metadata": {},
     "output_type": "execute_result"
    }
   ],
   "source": [
    "proc_df(df_train, 'Class', do_scale=True)[3]"
   ]
  },
  {
   "cell_type": "code",
   "execution_count": 7,
   "metadata": {},
   "outputs": [],
   "source": [
    "#fastai\n",
    "df, _, nas, mapper = proc_df(df_train, 'Class', do_scale=True)\n",
    "df_val, _, nas, mapper = proc_df(val, 'Class', mapper=mapper, na_dict=nas, do_scale=True)\n",
    "df_fraud, _, nas, mapper = proc_df(fraud, 'Class', mapper=mapper, na_dict=nas, do_scale=True)"
   ]
  },
  {
   "cell_type": "code",
   "execution_count": 8,
   "metadata": {},
   "outputs": [
    {
     "data": {
      "text/plain": [
       "OneClassSVM(cache_size=200, coef0=0.0, degree=3, gamma=0.007, kernel='rbf',\n",
       "      max_iter=-1, nu=0.0005, random_state=None, shrinking=True, tol=0.001,\n",
       "      verbose=False)"
      ]
     },
     "execution_count": 8,
     "metadata": {},
     "output_type": "execute_result"
    }
   ],
   "source": [
    "model = svm.OneClassSVM(kernel='rbf', nu=0.0005,gamma=0.007)\n",
    "model.fit(df)\n",
    "model"
   ]
  },
  {
   "cell_type": "code",
   "execution_count": 9,
   "metadata": {},
   "outputs": [],
   "source": [
    "#Creating a test set that contains both fraud and non fraud\n",
    "y_val = val['Class']\n",
    "y_fraud = fraud['Class']\n",
    "y_testval = pd.concat([y_val, y_fraud])\n",
    "y_testval = np.array(y_testval)\n",
    "df_testval = pd.concat([df_val, df_fraud])"
   ]
  },
  {
   "cell_type": "code",
   "execution_count": 10,
   "metadata": {},
   "outputs": [
    {
     "data": {
      "text/plain": [
       "(array([1, 1, 1, ..., 1, 1, 1]), 11516)"
      ]
     },
     "execution_count": 10,
     "metadata": {},
     "output_type": "execute_result"
    }
   ],
   "source": [
    "#predicting on test set, which consists of both fraud and non-fraud\n",
    "pred_testval = model.predict(df_testval)\n",
    "pred_testval,len(pred_testval)"
   ]
  },
  {
   "cell_type": "code",
   "execution_count": 11,
   "metadata": {},
   "outputs": [
    {
     "name": "stdout",
     "output_type": "stream",
     "text": [
      "              precision    recall  f1-score   support\n",
      "\n",
      "          -1       0.10      0.00      0.00       947\n",
      "           1       0.92      1.00      0.96     10569\n",
      "\n",
      "   micro avg       0.92      0.92      0.92     11516\n",
      "   macro avg       0.51      0.50      0.48     11516\n",
      "weighted avg       0.85      0.92      0.88     11516\n",
      "\n"
     ]
    }
   ],
   "source": [
    "print(classification_report(y_testval, pred_testval))"
   ]
  },
  {
   "cell_type": "code",
   "execution_count": 12,
   "metadata": {},
   "outputs": [
    {
     "name": "stdout",
     "output_type": "stream",
     "text": [
      "precision is 0.1, recall is 0.0010559662090813093 and F2 score is 0.0013164823591363874\n"
     ]
    }
   ],
   "source": [
    "prec, rec, f2, _ = precision_recall_fscore_support(y_testval, pred_testval, beta=2, \n",
    "                                                   pos_label=-1, average='binary')\n",
    "print(f'precision is {prec}, recall is {rec} and F2 score is {f2}')"
   ]
  },
  {
   "cell_type": "code",
   "execution_count": 13,
   "metadata": {},
   "outputs": [
    {
     "name": "stdout",
     "output_type": "stream",
     "text": [
      "ROC score is 0.5001022096160366\n"
     ]
    }
   ],
   "source": [
    "roc = roc_auc_score(y_testval, pred_testval)\n",
    "print(f'ROC score is {roc}')"
   ]
  },
  {
   "cell_type": "code",
   "execution_count": null,
   "metadata": {},
   "outputs": [],
   "source": []
  }
 ],
 "metadata": {
  "kernelspec": {
   "display_name": "Python 3",
   "language": "python",
   "name": "python3"
  },
  "language_info": {
   "codemirror_mode": {
    "name": "ipython",
    "version": 3
   },
   "file_extension": ".py",
   "mimetype": "text/x-python",
   "name": "python",
   "nbconvert_exporter": "python",
   "pygments_lexer": "ipython3",
   "version": "3.6.7"
  }
 },
 "nbformat": 4,
 "nbformat_minor": 2
}
